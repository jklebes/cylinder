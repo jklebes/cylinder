{
 "cells": [
  {
   "cell_type": "code",
   "execution_count": 1,
   "id": "registered-blackjack",
   "metadata": {},
   "outputs": [],
   "source": [
    "import math\n",
    "import numpy as np\n",
    "import copy\n",
    "import matplotlib.pyplot as plt\n",
    "%matplotlib inline\n",
    "\n",
    "import rescale"
   ]
  },
  {
   "cell_type": "code",
   "execution_count": 32,
   "id": "duplicate-guess",
   "metadata": {},
   "outputs": [],
   "source": [
    "alpha=1\n",
    "C=1 \n",
    "n=1 \n",
    "cutoff_wavelength = .2*2*math.pi/100\n",
    "lx = 2*math.pi/100\n",
    "ly = lx\n",
    "field='real'\n",
    "Q=(int(lx/cutoff_wavelength),int(ly/cutoff_wavelength))"
   ]
  },
  {
   "cell_type": "code",
   "execution_count": 3,
   "id": "architectural-diabetes",
   "metadata": {},
   "outputs": [],
   "source": [
    "\n",
    "B_matrix_4 = rescale.get_VWmatrix(field='real', maxwavevector=Q, alpha=alpha, n=n, C=C, lx=lx, ly=ly, lambda_is=range(4))[-4:, -4:]\n"
   ]
  },
  {
   "cell_type": "code",
   "execution_count": 4,
   "id": "filled-saturn",
   "metadata": {},
   "outputs": [],
   "source": [
    "B_matrix_5 = rescale.get_VWmatrix(field='real', maxwavevector=Q, alpha=alpha, n=n, C=C, lx=lx, ly=ly, lambda_is=range(5))[-5:, -5:]\n"
   ]
  },
  {
   "cell_type": "code",
   "execution_count": 5,
   "id": "grave-failing",
   "metadata": {},
   "outputs": [
    {
     "data": {
      "text/plain": [
       "array([[ 1.58888519, -0.58801324, -0.33673459, -0.58801324],\n",
       "       [-0.58801324,  1.58888519, -0.58801324, -0.33673459],\n",
       "       [-0.33673459, -0.58801324,  1.58888519, -0.58801324],\n",
       "       [-0.58801324, -0.33673459, -0.58801324,  1.58888519]])"
      ]
     },
     "execution_count": 5,
     "metadata": {},
     "output_type": "execute_result"
    }
   ],
   "source": [
    "B_matrix_4.real"
   ]
  },
  {
   "cell_type": "code",
   "execution_count": 6,
   "id": "loose-clause",
   "metadata": {},
   "outputs": [
    {
     "data": {
      "text/plain": [
       "array([[ 2.39231994,  0.2154215 ,  0.46670015,  0.2154215 , -3.2898631 ],\n",
       "       [ 0.2154215 ,  2.39231994,  0.2154215 ,  0.46670015, -3.2898631 ],\n",
       "       [ 0.46670015,  0.2154215 ,  2.39231994,  0.2154215 , -3.2898631 ],\n",
       "       [ 0.2154215 ,  0.46670015,  0.2154215 ,  2.39231994, -3.2898631 ],\n",
       "       [-3.2898631 , -3.2898631 , -3.2898631 , -3.2898631 , 13.47116148]])"
      ]
     },
     "execution_count": 6,
     "metadata": {},
     "output_type": "execute_result"
    }
   ],
   "source": [
    "B_matrix_5.real"
   ]
  },
  {
   "cell_type": "code",
   "execution_count": 7,
   "id": "foreign-banking",
   "metadata": {},
   "outputs": [
    {
     "data": {
      "text/plain": [
       "array([[3.64672501, 3.18115256, 3.12741169, 3.18115256],\n",
       "       [3.18115256, 3.64672501, 3.18115256, 3.12741169],\n",
       "       [3.12741169, 3.18115256, 3.64672501, 3.18115256],\n",
       "       [3.18115256, 3.12741169, 3.18115256, 3.64672501]])"
      ]
     },
     "execution_count": 7,
     "metadata": {},
     "output_type": "execute_result"
    }
   ],
   "source": [
    "cov_matrix_4 = np.linalg.inv(B_matrix_4)\n",
    "cov_matrix_4.real"
   ]
  },
  {
   "cell_type": "markdown",
   "id": "novel-closer",
   "metadata": {},
   "source": [
    "cov_matrix_5 = np.linalg.inv(B_matrix_5)\n",
    "cov_matrix_5.real"
   ]
  },
  {
   "cell_type": "code",
   "execution_count": 8,
   "id": "computational-metropolitan",
   "metadata": {},
   "outputs": [
    {
     "data": {
      "text/plain": [
       "array([[3.64672501, 3.18115256, 3.12741169, 3.18115256, 3.20811945],\n",
       "       [3.18115256, 3.64672501, 3.18115256, 3.12741169, 3.20811945],\n",
       "       [3.12741169, 3.18115256, 3.64672501, 3.18115256, 3.20811945],\n",
       "       [3.18115256, 3.12741169, 3.18115256, 3.64672501, 3.20811945],\n",
       "       [3.20811945, 3.20811945, 3.20811945, 3.20811945, 3.20811945]])"
      ]
     },
     "execution_count": 8,
     "metadata": {},
     "output_type": "execute_result"
    }
   ],
   "source": [
    "cov_matrix_5 = np.linalg.inv(B_matrix_5) \n",
    "cov_matrix_5.real"
   ]
  },
  {
   "cell_type": "markdown",
   "id": "extra-rolling",
   "metadata": {},
   "source": [
    "verify positive-definiteness of covariance matrices\n"
   ]
  },
  {
   "cell_type": "code",
   "execution_count": 9,
   "id": "broad-cliff",
   "metadata": {},
   "outputs": [
    {
     "name": "stdout",
     "output_type": "stream",
     "text": [
      "cov-4 is positive definite: True\n",
      "cov-5 is positive definite: True\n"
     ]
    }
   ],
   "source": [
    "print(\"cov-4 is positive definite:\", np.all(np.linalg.eigvals(cov_matrix_4) > 0))\n",
    "print(\"cov-5 is positive definite:\", np.all(np.linalg.eigvals(cov_matrix_5) > 0))"
   ]
  },
  {
   "cell_type": "markdown",
   "id": "figured-acrobat",
   "metadata": {},
   "source": [
    "The covariances matrices show the same covariances between \\mu_i no matter how manny additional \\mu_i are \\`measured\\'.  As expected the physics/statistics of the object is the same no matter what we \\`measure\\'.  \n",
    "\n",
    "The covariance matrix shows the total covariance, i.e. everything about how the field behaves at that point, whether the correlations are direct or mediated by (and correlated with) the field at other locations.\n",
    "\n",
    "On the other hand the precision matrix (inverse of covariance matrix) shows something related to partial covariances - only those covariances betwee two points not \\`explained by\\' other, indirect effects."
   ]
  },
  {
   "cell_type": "markdown",
   "id": "characteristic-barbados",
   "metadata": {},
   "source": [
    "### Correlation matrix, precision matrix; partial convariances, conditional covariances in detail\n",
    "- precision matrix  = inverse correlation matrix\n",
    "- For N-dimensional Gaussian distributions, partial covariances = conditional covariances\n"
   ]
  },
  {
   "cell_type": "markdown",
   "id": "digital-pioneer",
   "metadata": {},
   "source": [
    "A partial covariance matrix between the first 4 boundary points extracted from the 5-element version"
   ]
  },
  {
   "cell_type": "code",
   "execution_count": 10,
   "id": "simplified-thanksgiving",
   "metadata": {},
   "outputs": [
    {
     "name": "stdout",
     "output_type": "stream",
     "text": [
      "C_(j|5) =  [[ 0.43860556 -0.02696689 -0.08070776 -0.02696689]\n",
      " [-0.02696689  0.43860556 -0.02696689 -0.08070776]\n",
      " [-0.08070776 -0.02696689  0.43860556 -0.02696689]\n",
      " [-0.02696689 -0.08070776 -0.02696689  0.43860556]]\n"
     ]
    }
   ],
   "source": [
    "cov_partial = np.zeros((4,4), dtype=complex)\n",
    "fifth_entry= [[cov_matrix_5[-1,-1]]]\n",
    "#print(cov_matrix_5[-1:,:-1].real, np.linalg.inv(fifth_entry).real, cov_matrix_5[:-1,-1:].real)\n",
    "cov_partial = cov_matrix_5[:-1,:-1] - np.matmul( cov_matrix_5[:-1,-1:], np.matmul(\n",
    "                   np.linalg.inv(fifth_entry), cov_matrix_5[-1:,:-1] ))\n",
    "print(\"C_(j|5) = \",cov_partial.real)    "
   ]
  },
  {
   "cell_type": "markdown",
   "id": "dried-center",
   "metadata": {},
   "source": [
    "this is not equal to C^4_j. "
   ]
  },
  {
   "cell_type": "code",
   "execution_count": 11,
   "id": "armed-probe",
   "metadata": {},
   "outputs": [
    {
     "name": "stdout",
     "output_type": "stream",
     "text": [
      "C^4=\n",
      " [[3.64672501 3.18115256 3.12741169 3.18115256]\n",
      " [3.18115256 3.64672501 3.18115256 3.12741169]\n",
      " [3.12741169 3.18115256 3.64672501 3.18115256]\n",
      " [3.18115256 3.12741169 3.18115256 3.64672501]]\n"
     ]
    }
   ],
   "source": [
    "print(\"C^4=\\n\" , cov_matrix_4.real)"
   ]
  },
  {
   "cell_type": "markdown",
   "id": "urban-parade",
   "metadata": {},
   "source": [
    " C^4_j is the covariances between the 4 boundary points when everything is alloweed to flucutate. C_{j|5} is the covariances between the 4 boundary points when the mean (5th condition) is constrained to a constant.\n",
    " \n",
    " We see that when the mean is held constant, values at the boundary conitions fluctuate less widely and are slightly anticorrelated with each other."
   ]
  },
  {
   "cell_type": "code",
   "execution_count": 12,
   "id": "facial-atlas",
   "metadata": {},
   "outputs": [
    {
     "name": "stdout",
     "output_type": "stream",
     "text": [
      "inv of partial covariances extracted from 5 constrain covs\n",
      "[[2.39231994 0.2154215  0.46670015 0.2154215 ]\n",
      " [0.2154215  2.39231994 0.2154215  0.46670015]\n",
      " [0.46670015 0.2154215  2.39231994 0.2154215 ]\n",
      " [0.2154215  0.46670015 0.2154215  2.39231994]]\n",
      "B matrix measured from 4 points from the start\n",
      "[[ 1.58888519 -0.58801324 -0.33673459 -0.58801324]\n",
      " [-0.58801324  1.58888519 -0.58801324 -0.33673459]\n",
      " [-0.33673459 -0.58801324  1.58888519 -0.58801324]\n",
      " [-0.58801324 -0.33673459 -0.58801324  1.58888519]]\n"
     ]
    }
   ],
   "source": [
    "print(\"inv of partial covariances extracted from 5 constrain covs\", np.linalg.inv(cov_partial).real, sep=\"\\n\")\n",
    "print(\"B matrix measured from 4 points from the start\", B_matrix_4.real, sep=\"\\n\")"
   ]
  },
  {
   "cell_type": "markdown",
   "id": "expanded-conviction",
   "metadata": {},
   "source": [
    "Like B^5, the partial cov matrix does not hvae expected negative entries like B_13.\n",
    "\n",
    "Only B^4 does.\n",
    "\n",
    "1: effects due to mean are excluded, only additional info is shown\n",
    "\n",
    "2: effects via mean are incorporated into correlations"
   ]
  },
  {
   "cell_type": "code",
   "execution_count": 13,
   "id": "friendly-macedonia",
   "metadata": {},
   "outputs": [
    {
     "name": "stdout",
     "output_type": "stream",
     "text": [
      "[[2.39231994 0.2154215  0.46670015 0.2154215 ]\n",
      " [0.2154215  2.39231994 0.2154215  0.46670015]\n",
      " [0.46670015 0.2154215  2.39231994 0.2154215 ]\n",
      " [0.2154215  0.46670015 0.2154215  2.39231994]]\n"
     ]
    }
   ],
   "source": [
    "print(B_matrix_5[:4,:4].real)"
   ]
  },
  {
   "cell_type": "markdown",
   "id": "magnetic-intranet",
   "metadata": {},
   "source": [
    "this does not have the desired properties.  What does this represent?  What do the raw individual elements of a precision matrix mean?"
   ]
  },
  {
   "cell_type": "code",
   "execution_count": 14,
   "id": "accessible-catch",
   "metadata": {},
   "outputs": [
    {
     "name": "stdout",
     "output_type": "stream",
     "text": [
      "C_(55|j) =  [[0.07423265]]\n",
      "inverse  [[13.47116148]]\n"
     ]
    }
   ],
   "source": [
    "\n",
    "#print(cov_matrix_5[-1:,:-1].real, np.linalg.inv(fifth_entry).real, cov_matrix_5[:-1,-1:].real)\n",
    "cov_partial_55 = cov_matrix_5[-1:,-1:] - np.matmul( cov_matrix_5[-1:,:-1], np.matmul(\n",
    "                   np.linalg.inv(cov_matrix_5[:-1,:-1]), cov_matrix_5[:-1,-1:] ))\n",
    "print(\"C_(55|j) = \",cov_partial_55.real)  \n",
    "print(\"inverse \",np.linalg.inv(cov_partial_55).real)  "
   ]
  },
  {
   "cell_type": "markdown",
   "id": "dramatic-possibility",
   "metadata": {},
   "source": [
    "Matching exactly the element of precision matrix.  This leads me to believe that elements of precision matrix mean:  Partial (co-)variance of two or one variable, letting the other three or four be fixed."
   ]
  },
  {
   "cell_type": "markdown",
   "id": "needed-civilian",
   "metadata": {},
   "source": [
    "Why is B_{13} = inv(C_{13|245}) not the element we want?  Because most correlation between 1 and 3 is mediated by what happens at 5.  The rest not \\`explained by\\' this is small, inconsequential, and has the wrong sign. "
   ]
  },
  {
   "cell_type": "markdown",
   "id": "arranged-video",
   "metadata": {},
   "source": [
    "# How to estimate effective potential from covariance matrix"
   ]
  },
  {
   "cell_type": "markdown",
   "id": "protective-complaint",
   "metadata": {},
   "source": [
    "The covariance matrix is the same no matter is it was derived for 4 or 5 boundary conditions.  The 5x5 covariance matrix contains the most complete and universal information, so we take this as our starting point."
   ]
  },
  {
   "cell_type": "markdown",
   "id": "thousand-geography",
   "metadata": {},
   "source": [
    "B^5_{55} = 13.47 holds the information: the mean on the cell varies little, if all the other points are held at some constant value.  \n",
    "Is this what we want in alpha'?"
   ]
  },
  {
   "cell_type": "markdown",
   "id": "exposed-bullet",
   "metadata": {},
   "source": [
    "C^5_{55} = 3.2 holds the information: when everything fluctuates, the value of the mean varies more and behaves much like the value at each of the five points."
   ]
  },
  {
   "cell_type": "markdown",
   "id": "common-louisville",
   "metadata": {},
   "source": [
    "What is a corresponding precision?  Perhaps it is this value."
   ]
  },
  {
   "cell_type": "code",
   "execution_count": 33,
   "id": "handmade-ghana",
   "metadata": {},
   "outputs": [],
   "source": [
    "lx = 2*math.pi/100\n",
    "ly=lx\n",
    "Q=(int(lx/cutoff_wavelength),int(ly/cutoff_wavelength))\n",
    "B_matrix_1 = rescale.get_VWmatrix(field='real', maxwavevector=Q, alpha=alpha, n=n, C=C, lx=lx, ly=ly, lambda_is=[4])[-1:, -1:]\n"
   ]
  },
  {
   "cell_type": "code",
   "execution_count": 34,
   "id": "preceding-delight",
   "metadata": {},
   "outputs": [
    {
     "data": {
      "text/plain": [
       "array([[0.31170909+0.j]])"
      ]
     },
     "execution_count": 34,
     "metadata": {},
     "output_type": "execute_result"
    }
   ],
   "source": [
    "B_matrix_1"
   ]
  },
  {
   "cell_type": "code",
   "execution_count": 35,
   "id": "adopted-denial",
   "metadata": {},
   "outputs": [
    {
     "data": {
      "text/plain": [
       "array([[3.20811945+0.j]])"
      ]
     },
     "execution_count": 35,
     "metadata": {},
     "output_type": "execute_result"
    }
   ],
   "source": [
    "np.linalg.inv(B_matrix_1)"
   ]
  },
  {
   "cell_type": "markdown",
   "id": "gothic-jersey",
   "metadata": {},
   "source": [
    "It is this value, or could hvae just 1/C_55"
   ]
  },
  {
   "cell_type": "markdown",
   "id": "vocal-techno",
   "metadata": {},
   "source": [
    "Another thing: does F_0 \\sim ln sqrt 1/det(A) depend on how many boundary points are \\`measured\\'?"
   ]
  },
  {
   "cell_type": "markdown",
   "id": "automotive-guest",
   "metadata": {},
   "source": [
    "The mean varies a lot (precision .33) when everything else is not held constant.  Is this the information we want in alpha' ?"
   ]
  },
  {
   "cell_type": "markdown",
   "id": "advanced-slide",
   "metadata": {},
   "source": [
    "Big difference here between precision matrix element and 1/covaraiance matrix element."
   ]
  },
  {
   "cell_type": "markdown",
   "id": "announced-oxygen",
   "metadata": {},
   "source": [
    "We want the property of C_55 that precision scales with area: fluctuations in the mean of a large number of oscillators are smaller with increasing number of oscillators.  Do B_{jj|5} (diagonal of inverse conditional covariance matrix) and B_jj (diagonal of precision matrix derived from only 4 points) have this property?  Does the much smaller precision 1/C_55 , precision of mean when everything fluctuates, have this property?"
   ]
  },
  {
   "cell_type": "markdown",
   "id": "collect-physiology",
   "metadata": {},
   "source": [
    "Retrieve a few B^5, B^4.\n"
   ]
  },
  {
   "cell_type": "code",
   "execution_count": 36,
   "id": "possible-sixth",
   "metadata": {},
   "outputs": [],
   "source": [
    "lxs = [x*2*math.pi/100 for x in [1,2,2.5,3,3.2,3.5,3.7,4,4.2,4.5,5,6]]\n",
    "B_matrices_4 = []\n",
    "B_matrices_5 = []"
   ]
  },
  {
   "cell_type": "code",
   "execution_count": 37,
   "id": "maritime-richardson",
   "metadata": {},
   "outputs": [
    {
     "name": "stdout",
     "output_type": "stream",
     "text": [
      "(5, 5)\n",
      "(10, 10)\n",
      "(12, 12)\n",
      "(14, 14)\n",
      "(16, 16)\n",
      "(17, 17)\n",
      "(18, 18)\n",
      "(20, 20)\n",
      "(21, 21)\n",
      "(22, 22)\n",
      "(25, 25)\n",
      "(29, 29)\n"
     ]
    }
   ],
   "source": [
    "for lx in lxs:\n",
    "    ly = lx\n",
    "    Q=(int(lx/cutoff_wavelength),int(ly/cutoff_wavelength))\n",
    "    print(Q)\n",
    "    B_matrix_4 = rescale.get_VWmatrix(field='real', maxwavevector=Q, alpha=alpha, n=n, C=C, lx=lx, ly=ly, lambda_is=range(4))[-4:, -4:]\n",
    "    B_matrices_4.append(B_matrix_4)\n",
    "    B_matrix_5 = rescale.get_VWmatrix(field='real', maxwavevector=Q, alpha=alpha, n=n, C=C, lx=lx, ly=ly, lambda_is=range(5))[-5:, -5:]\n",
    "    B_matrices_5.append(B_matrix_5)"
   ]
  },
  {
   "cell_type": "code",
   "execution_count": 38,
   "id": "identical-beatles",
   "metadata": {},
   "outputs": [],
   "source": [
    "cov_matrices_4=[]\n",
    "cov_matrices_5=[]\n",
    "for m in B_matrices_4:\n",
    "    cov_matrices_4.append(np.linalg.inv(m))\n",
    "for m in B_matrices_5:\n",
    "    cov_matrices_5.append(np.linalg.inv(m))\n",
    "cov_matrices_cond_on_5=[]\n",
    "prec_matrices_cond_on_5=[]\n",
    "for B,C_ in zip(B_matrices_5, cov_matrices_5):\n",
    "    fifth_entry= [[C_[-1,-1]]]\n",
    "    cov_partial = C_[:-1,:-1] - np.matmul( C_[:-1,-1:], np.matmul(\n",
    "                   np.linalg.inv(fifth_entry), C_[-1:,:-1] ))\n",
    "    cov_matrices_cond_on_5.append(cov_partial)\n",
    "    prec_matrices_cond_on_5.append(np.linalg.inv(cov_partial))"
   ]
  },
  {
   "cell_type": "code",
   "execution_count": 39,
   "id": "pacific-lawrence",
   "metadata": {},
   "outputs": [
    {
     "data": {
      "text/plain": [
       "[array([[ 2.39231994,  0.2154215 ,  0.46670015,  0.2154215 , -3.2898631 ],\n",
       "        [ 0.2154215 ,  2.39231994,  0.2154215 ,  0.46670015, -3.2898631 ],\n",
       "        [ 0.46670015,  0.2154215 ,  2.39231994,  0.2154215 , -3.2898631 ],\n",
       "        [ 0.2154215 ,  0.46670015,  0.2154215 ,  2.39231994, -3.2898631 ],\n",
       "        [-3.2898631 , -3.2898631 , -3.2898631 , -3.2898631 , 13.47116148]]),\n",
       " array([[ 1.86164532,  0.12375846,  0.27353622,  0.12393236, -2.38287236],\n",
       "        [ 0.12243131,  1.86229432,  0.12240922,  0.27409757, -2.38123242],\n",
       "        [ 0.2735306 ,  0.12301615,  1.86132275,  0.12406176, -2.38193125],\n",
       "        [ 0.12252004,  0.27376825,  0.12249403,  1.86295173, -2.38173406],\n",
       "        [-2.38012727, -2.38283719, -2.37976223, -2.38504343, 10.77460649]]),\n",
       " array([[ 1.69347586, -0.70030834,  0.32319542,  0.87435565, -2.19071857],\n",
       "        [ 0.09747776,  1.64143663,  0.12546835,  0.45978387, -2.32416661],\n",
       "        [ 0.26970395,  0.57759377,  1.70873034, -0.6385671 , -1.91746097],\n",
       "        [ 0.13414014,  0.51005025,  0.07832602,  1.53133444, -2.25385085],\n",
       "        [-2.19479816, -2.02877531, -2.23571997, -2.2269065 , 10.63438176]]),\n",
       " array([[ 1.73043686,  0.09742663,  0.21365496,  0.09836044, -2.13987888],\n",
       "        [ 0.09951973,  1.73657162,  0.0985956 ,  0.21989849, -2.15458543],\n",
       "        [ 0.21326963,  0.09864124,  1.72999262,  0.09777279, -2.13967629],\n",
       "        [ 0.09876993,  0.22165112,  0.09868326,  1.73539527, -2.15449958],\n",
       "        [-2.14199617, -2.15429062, -2.14092647, -2.15142699, 11.39402207]]),\n",
       " array([[ 1.69057879,  0.08638701,  0.20154777,  0.08927439, -2.06778796],\n",
       "        [ 0.09117402,  1.684563  ,  0.09114294,  0.19864239, -2.06552236],\n",
       "        [ 0.20319261,  0.09022673,  1.69087183,  0.08649285, -2.07078402],\n",
       "        [ 0.09034655,  0.19985393,  0.09049688,  1.6834635 , -2.06416086],\n",
       "        [-2.07529196, -2.06103073, -2.07405946, -2.05787322, 11.46015646]]),\n",
       " array([[ 1.66320328,  0.08518083,  0.1899799 ,  0.08525316, -2.02361717],\n",
       "        [ 0.08890301,  1.66700665,  0.08721167,  0.19309595, -2.03621728],\n",
       "        [ 0.19011332,  0.08978132,  1.66990988,  0.09095888, -2.0407634 ],\n",
       "        [ 0.08952863,  0.19621549,  0.08945487,  1.67123733, -2.04643632],\n",
       "        [-2.03174826, -2.0381843 , -2.03655635, -2.04054539, 11.96547067]]),\n",
       " array([[ 1.65870506,  0.09011564,  0.18211005,  0.08149849, -2.01242924],\n",
       "        [ 0.08178553,  1.65143319,  0.08783639,  0.18897557, -2.01003068],\n",
       "        [ 0.19584177,  0.08789399,  1.64743529,  0.08527295, -2.016444  ],\n",
       "        [ 0.07621354,  0.18188624,  0.08931646,  1.65535431, -2.00277056],\n",
       "        [-2.01254612, -2.01132915, -2.00669822, -2.01110137, 12.30897232]]),\n",
       " array([[ 1.6310277 ,  0.0862007 ,  0.1726106 ,  0.07464958, -1.96448857],\n",
       "        [ 0.08433133,  1.6268694 ,  0.08329317,  0.1692908 , -1.96378469],\n",
       "        [ 0.16736522,  0.08510291,  1.62401533,  0.08129071, -1.95777417],\n",
       "        [ 0.08422067,  0.17462312,  0.08222968,  1.62006075, -1.96113422],\n",
       "        [-1.96694509, -1.97279624, -1.96214898, -1.9452917 , 12.83452747]]),\n",
       " array([[ 1.6230672 ,  0.07496825,  0.17052106,  0.08266903, -1.95122553],\n",
       "        [ 0.07991359,  1.61376778,  0.07762566,  0.16456888, -1.93587591],\n",
       "        [ 0.16616301,  0.08127441,  1.61411005,  0.07492216, -1.93646963],\n",
       "        [ 0.08035533,  0.16670202,  0.08114867,  1.60959003, -1.93779604],\n",
       "        [-1.94949873, -1.93671251, -1.94340526, -1.93174996, 13.25991483]]),\n",
       " array([[ 1.59646163,  0.0726763 ,  0.15680814,  0.07760337, -1.90354943],\n",
       "        [ 0.0751343 ,  1.6014795 ,  0.07412726,  0.1599187 , -1.91065977],\n",
       "        [ 0.15420538,  0.06798459,  1.59735627,  0.07398993, -1.89353618],\n",
       "        [ 0.07494304,  0.1565885 ,  0.07413329,  1.60524924, -1.91091408],\n",
       "        [-1.90074447, -1.89872901, -1.90242506, -1.91676141, 13.93076906]]),\n",
       " array([[ 1.57237954,  0.07044305,  0.14347668,  0.06904789, -1.85534716],\n",
       "        [ 0.07016784,  1.57119352,  0.06896168,  0.1439967 , -1.85431974],\n",
       "        [ 0.14555518,  0.06831035,  1.57406034,  0.06720455, -1.85513042],\n",
       "        [ 0.06946627,  0.14244608,  0.0682178 ,  1.57389705, -1.85402721],\n",
       "        [-1.85756893, -1.85239309, -1.85471669, -1.85414628, 15.21155227]]),\n",
       " array([[ 1.54825605,  0.06216357,  0.12168667,  0.06428849, -1.79639477],\n",
       "        [ 0.06645814,  1.55380105,  0.06793311,  0.12434401, -1.81253631],\n",
       "        [ 0.1172764 ,  0.05946158,  1.550079  ,  0.06455057, -1.79136755],\n",
       "        [ 0.0625845 ,  0.11641023,  0.06675537,  1.55472392, -1.80047402],\n",
       "        [-1.79457563, -1.79183671, -1.80645419, -1.80790717, 18.42230098]])]"
      ]
     },
     "execution_count": 39,
     "metadata": {},
     "output_type": "execute_result"
    }
   ],
   "source": [
    "[x.real for x in B_matrices_5]"
   ]
  },
  {
   "cell_type": "markdown",
   "id": "bored-murder",
   "metadata": {},
   "source": [
    "We would really like to use the information B_55, this is the only one where precision (narrowness) in the mean scales with area as expected."
   ]
  },
  {
   "cell_type": "markdown",
   "id": "nuclear-accountability",
   "metadata": {},
   "source": [
    "We also need the information in B_5j (negative values -> correlations between different positions, leads to expected sign of gradient term), whether directly or indirectly as in B^4_ij. "
   ]
  },
  {
   "cell_type": "markdown",
   "id": "extra-ministry",
   "metadata": {},
   "source": [
    "I want to just take B^5 and mach it to an effective free energy with assymetric backwards derivatives (whihc is in fact how the lattice simulation is done at the moment)."
   ]
  },
  {
   "cell_type": "markdown",
   "id": "unlikely-progressive",
   "metadata": {},
   "source": [
    "The only alternative that also contains the information from B^5_55 and B^5_{5j} is to take alpha' mainly from B^5_55 (the area scaling signal is lost boundary point precisions of precision matrix conditioned on 5, in diagonal of B^4).\n",
    "\n",
    "And take gradient information from B^4, which includes the effect mediated via fluctuating mean value.  Direct B^5_{5j} info would be either discarded or added into magnitude term as a correction.\n",
    "\n",
    "This alternative is more complicated to interpret the validity of."
   ]
  },
  {
   "cell_type": "markdown",
   "id": "comparable-asthma",
   "metadata": {},
   "source": [
    "Direct equality Z=... * e^{-muBmu} = ... * e^{-beta H(mu)} is more exactly preserved by including as many large terms as possible from B in H."
   ]
  },
  {
   "cell_type": "markdown",
   "id": "pleasant-ecology",
   "metadata": {},
   "source": [
    "The 'just use B^4', 'estimate magnitude as average of four boundary points' idea: this doesn't include the information that fluctuations in mean are narrower when it's a mean of a bigger area - but we need the field to act this way so that value in a big cell acts like mean of value in several smaller cells.  Not like value at a point.   Why? ?? \n",
    "\n",
    "Metropolis decisions are made based on Hamiltonian total (not density) in a cell.  Total energy (difference) in a cell as estimated from an indicative value can't be obtained from a point.  If we take this point to indicate that the value on the cell is uniformly that value, then the uniform field on the cell will fluctuate a lot regardless of cell size.  Not realistic.\n"
   ]
  },
  {
   "cell_type": "code",
   "execution_count": 40,
   "id": "incorrect-tutorial",
   "metadata": {},
   "outputs": [
    {
     "data": {
      "text/plain": [
       "[array([[ 1.58888519, -0.58801324, -0.33673459, -0.58801324],\n",
       "        [-0.58801324,  1.58888519, -0.58801324, -0.33673459],\n",
       "        [-0.33673459, -0.58801324,  1.58888519, -0.58801324],\n",
       "        [-0.58801324, -0.33673459, -0.58801324,  1.58888519]]),\n",
       " array([[ 1.33581881, -0.40347052, -0.25284119, -0.40405185],\n",
       "        [-0.40402153,  1.33516591, -0.40337248, -0.2521118 ],\n",
       "        [-0.25269202, -0.40393254,  1.33574535, -0.40364226],\n",
       "        [-0.40362011, -0.25246179, -0.40387322,  1.33551119]]),\n",
       " array([[ 1.31868918, -0.35163219, -0.2194749 , -0.34586097],\n",
       "        [-0.32589616,  1.31833198, -0.37945731, -0.21205361],\n",
       "        [-0.23042548, -0.34452187,  1.33128777, -0.35558763],\n",
       "        [-0.36844196, -0.22058369, -0.32763707,  1.31263455]]),\n",
       " array([[ 1.32550733, -0.30497096, -0.1896052 , -0.30323744],\n",
       "        [-0.30344011,  1.32485731, -0.30588881, -0.18655042],\n",
       "        [-0.18958746, -0.30339351,  1.32583129, -0.3049702 ],\n",
       "        [-0.30571331, -0.18665208, -0.30327078,  1.32468751]]),\n",
       " array([[ 1.31675912, -0.28444582, -0.17469614, -0.28194358],\n",
       "        [-0.28479283,  1.31642853, -0.28170434, -0.17367517],\n",
       "        [-0.17607699, -0.28071475,  1.3151287 , -0.28378876],\n",
       "        [-0.28048601, -0.17574048, -0.28581193,  1.31870818]]),\n",
       " array([[ 1.32138862, -0.25695637, -0.15505275, -0.25991551],\n",
       "        [-0.2574811 ,  1.32165089, -0.25917839, -0.15543466],\n",
       "        [-0.15497282, -0.25962112,  1.31950679, -0.25480527],\n",
       "        [-0.25945517, -0.15527774, -0.25758986,  1.32284786]]),\n",
       " array([[ 1.32112642, -0.24014648, -0.14498326, -0.24378495],\n",
       "        [-0.23871812,  1.32268604, -0.23794965, -0.14323816],\n",
       "        [-0.14238768, -0.24122121,  1.32545537, -0.24280067],\n",
       "        [-0.24073982, -0.14394151, -0.24191705,  1.32616939]]),\n",
       " array([[ 1.32491725, -0.20986983, -0.12984554, -0.22436716],\n",
       "        [-0.21955647,  1.32778425, -0.22014111, -0.12765083],\n",
       "        [-0.11628765, -0.23022146,  1.32400326, -0.218955  ],\n",
       "        [-0.2145876 , -0.13828189, -0.214771  ,  1.32962422]]),\n",
       " array([[ 1.32727454, -0.20471996, -0.11681397, -0.20482183],\n",
       "        [-0.20383535,  1.32951885, -0.2035977 , -0.1174147 ],\n",
       "        [-0.11717567, -0.20378378,  1.3295249 , -0.20401347],\n",
       "        [-0.2037082 , -0.11781603, -0.20500112,  1.32878844]]),\n",
       " array([[ 1.34101483, -0.18320213, -0.10399921, -0.18776385],\n",
       "        [-0.18503387,  1.33740397, -0.18574901, -0.10246945],\n",
       "        [-0.10244125, -0.18418278,  1.33738891, -0.18491161],\n",
       "        [-0.18718012, -0.10689349, -0.18539353,  1.34355252]]),\n",
       " array([[ 1.34422764, -0.15479183, -0.0848515 , -0.15581486],\n",
       "        [-0.15442147,  1.34470951, -0.15249596, -0.08482665],\n",
       "        [-0.0819006 , -0.15806481,  1.3451037 , -0.1549957 ],\n",
       "        [-0.15420403, -0.08459474, -0.15347944,  1.34604902]]),\n",
       " array([[ 1.37375321, -0.10987048, -0.05453844, -0.1152964 ],\n",
       "        [-0.10891865,  1.37171768, -0.11115953, -0.05475885],\n",
       "        [-0.05252728, -0.11367146,  1.37448373, -0.11005672],\n",
       "        [-0.10953133, -0.05406593, -0.11137522,  1.37163089]])]"
      ]
     },
     "execution_count": 40,
     "metadata": {},
     "output_type": "execute_result"
    }
   ],
   "source": [
    "[x.real for x in B_matrices_4]"
   ]
  },
  {
   "cell_type": "code",
   "execution_count": 41,
   "id": "hourly-influence",
   "metadata": {},
   "outputs": [
    {
     "data": {
      "image/png": "[encoded data removed]",
      "text/plain": [
       "<Figure size 432x288 with 1 Axes>"
      ]
     },
     "metadata": {
      "needs_background": "light"
     },
     "output_type": "display_data"
    }
   ],
   "source": [
    "plt.plot(lxs, [x[0,0].real for x in B_matrices_4])\n",
    "plt.show()"
   ]
  },
  {
   "cell_type": "code",
   "execution_count": 42,
   "id": "bearing-oxygen",
   "metadata": {},
   "outputs": [
    {
     "data": {
      "image/png": "[encoded data removed]",
      "text/plain": [
       "<Figure size 432x288 with 1 Axes>"
      ]
     },
     "metadata": {
      "needs_background": "light"
     },
     "output_type": "display_data"
    }
   ],
   "source": [
    "plt.plot(lxs, [x[0,2].real for x in B_matrices_4])\n",
    "plt.show()"
   ]
  },
  {
   "cell_type": "code",
   "execution_count": 44,
   "id": "identified-pharmacy",
   "metadata": {},
   "outputs": [],
   "source": [
    "alpha=0\n",
    "B_matrices_4_a0=[]"
   ]
  },
  {
   "cell_type": "code",
   "execution_count": 45,
   "id": "unauthorized-garage",
   "metadata": {},
   "outputs": [
    {
     "name": "stdout",
     "output_type": "stream",
     "text": [
      "(5, 5)\n",
      "(10, 10)\n",
      "(12, 12)\n",
      "(14, 14)\n",
      "(16, 16)\n",
      "(17, 17)\n",
      "(18, 18)\n",
      "(20, 20)\n",
      "(21, 21)\n",
      "(22, 22)\n",
      "(25, 25)\n",
      "(29, 29)\n"
     ]
    }
   ],
   "source": [
    "for lx in lxs:\n",
    "    ly = lx\n",
    "    Q=(int(lx/cutoff_wavelength),int(ly/cutoff_wavelength))\n",
    "    print(Q)\n",
    "    B_matrix_4_a0 = rescale.get_VWmatrix(field='real', maxwavevector=Q, alpha=alpha, n=n, C=C, lx=lx, ly=ly, lambda_is=range(4))[-4:, -4:]\n",
    "    B_matrices_4_a0.append(B_matrix_4_a0)"
   ]
  },
  {
   "cell_type": "code",
   "execution_count": 46,
   "id": "interior-beginning",
   "metadata": {},
   "outputs": [
    {
     "data": {
      "image/png": "[encoded data removed]",
      "text/plain": [
       "<Figure size 432x288 with 1 Axes>"
      ]
     },
     "metadata": {
      "needs_background": "light"
     },
     "output_type": "display_data"
    }
   ],
   "source": [
    "plt.plot(lxs, [x[0,2].real for x in B_matrices_4_a0])\n",
    "plt.show()"
   ]
  },
  {
   "cell_type": "code",
   "execution_count": 47,
   "id": "precious-mailing",
   "metadata": {},
   "outputs": [
    {
     "data": {
      "image/png": "[encoded data removed]",
      "text/plain": [
       "<Figure size 432x288 with 1 Axes>"
      ]
     },
     "metadata": {
      "needs_background": "light"
     },
     "output_type": "display_data"
    }
   ],
   "source": [
    "plt.plot(lxs, [x[0,0].real for x in B_matrices_4_a0])\n",
    "plt.show()"
   ]
  },
  {
   "cell_type": "code",
   "execution_count": 66,
   "id": "naval-winning",
   "metadata": {},
   "outputs": [],
   "source": [
    "alpha=10\n",
    "C=1\n",
    "B_matrices_4_a1Csmall=[]"
   ]
  },
  {
   "cell_type": "code",
   "execution_count": 67,
   "id": "special-fancy",
   "metadata": {},
   "outputs": [
    {
     "name": "stdout",
     "output_type": "stream",
     "text": [
      "(5, 5)\n",
      "(10, 10)\n",
      "(12, 12)\n",
      "(14, 14)\n",
      "(16, 16)\n",
      "(17, 17)\n",
      "(18, 18)\n",
      "(20, 20)\n",
      "(21, 21)\n",
      "(22, 22)\n",
      "(25, 25)\n",
      "(29, 29)\n"
     ]
    },
    {
     "data": {
      "image/png": "[encoded data removed]",
      "text/plain": [
       "<Figure size 432x288 with 1 Axes>"
      ]
     },
     "metadata": {
      "needs_background": "light"
     },
     "output_type": "display_data"
    }
   ],
   "source": [
    "for lx in lxs:\n",
    "    ly = lx\n",
    "    Q=(int(lx/cutoff_wavelength),int(ly/cutoff_wavelength))\n",
    "    print(Q)\n",
    "    B_matrix_4_a1Csmall = rescale.get_VWmatrix(field='real', maxwavevector=Q, alpha=alpha, n=n, C=C, lx=lx, ly=ly, lambda_is=range(1))[-1:, -1:]\n",
    "    B_matrices_4_a1Csmall.append(B_matrix_4_a1Csmall)\n",
    "plt.plot(lxs, [x[0,0].real for x in B_matrices_4_a1Csmall])\n",
    "plt.show()"
   ]
  },
  {
   "cell_type": "code",
   "execution_count": 65,
   "id": "mental-resistance",
   "metadata": {},
   "outputs": [
    {
     "data": {
      "image/png": "[encoded data removed]",
      "text/plain": [
       "<Figure size 432x288 with 1 Axes>"
      ]
     },
     "metadata": {
      "needs_background": "light"
     },
     "output_type": "display_data"
    }
   ],
   "source": [
    "plt.plot(lxs, [x[-1,-1].real for x in B_matrices_4_a1Csmall])\n",
    "plt.show()"
   ]
  },
  {
   "cell_type": "code",
   "execution_count": null,
   "id": "academic-fifty",
   "metadata": {},
   "outputs": [],
   "source": []
  },
  {
   "cell_type": "code",
   "execution_count": null,
   "id": "liked-afternoon",
   "metadata": {},
   "outputs": [],
   "source": []
  }
 ],
 "metadata": {
  "kernelspec": {
   "display_name": "Python 3",
   "language": "python",
   "name": "python3"
  },
  "language_info": {
   "codemirror_mode": {
    "name": "ipython",
    "version": 3
   },
   "file_extension": ".py",
   "mimetype": "text/x-python",
   "name": "python",
   "nbconvert_exporter": "python",
   "pygments_lexer": "ipython3",
   "version": "3.8.5"
  }
 },
 "nbformat": 4,
 "nbformat_minor": 5
}
