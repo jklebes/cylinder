{
 "cells": [
  {
   "cell_type": "code",
   "execution_count": 1,
   "id": "registered-blackjack",
   "metadata": {},
   "outputs": [],
   "source": [
    "import math\n",
    "import numpy as np\n",
    "import copy\n",
    "\n",
    "import rescale"
   ]
  },
  {
   "cell_type": "code",
   "execution_count": 2,
   "id": "duplicate-guess",
   "metadata": {},
   "outputs": [],
   "source": [
    "alpha=1\n",
    "C=1 \n",
    "n=1 \n",
    "cutoff_wavelength = .2*2*math.pi/100\n",
    "lx = 2*math.pi/100\n",
    "ly = lx\n",
    "field='real'\n",
    "Q=(int(lx/cutoff_wavelength),int(ly/cutoff_wavelength))"
   ]
  },
  {
   "cell_type": "code",
   "execution_count": 3,
   "id": "sensitive-bahrain",
   "metadata": {},
   "outputs": [],
   "source": [
    "\n",
    "B_matrix_4 = rescale.get_VWmatrix(field='real', maxwavevector=Q, alpha=alpha, n=n, C=C, lx=lx, ly=ly, lambda_is=range(4))[-4:, -4:]\n"
   ]
  },
  {
   "cell_type": "code",
   "execution_count": 4,
   "id": "banner-variety",
   "metadata": {},
   "outputs": [],
   "source": [
    "B_matrix_5 = rescale.get_VWmatrix(field='real', maxwavevector=Q, alpha=alpha, n=n, C=C, lx=lx, ly=ly, lambda_is=range(5))[-5:, -5:]\n"
   ]
  },
  {
   "cell_type": "code",
   "execution_count": 5,
   "id": "caroline-recording",
   "metadata": {},
   "outputs": [
    {
     "data": {
      "text/plain": [
       "array([[ 1.58888519, -0.58801324, -0.33673459, -0.58801324],\n",
       "       [-0.58801324,  1.58888519, -0.58801324, -0.33673459],\n",
       "       [-0.33673459, -0.58801324,  1.58888519, -0.58801324],\n",
       "       [-0.58801324, -0.33673459, -0.58801324,  1.58888519]])"
      ]
     },
     "execution_count": 5,
     "metadata": {},
     "output_type": "execute_result"
    }
   ],
   "source": [
    "B_matrix_4.real"
   ]
  },
  {
   "cell_type": "code",
   "execution_count": 6,
   "id": "colored-equivalent",
   "metadata": {},
   "outputs": [
    {
     "data": {
      "text/plain": [
       "array([[ 2.39231994,  0.2154215 ,  0.46670015,  0.2154215 , -3.2898631 ],\n",
       "       [ 0.2154215 ,  2.39231994,  0.2154215 ,  0.46670015, -3.2898631 ],\n",
       "       [ 0.46670015,  0.2154215 ,  2.39231994,  0.2154215 , -3.2898631 ],\n",
       "       [ 0.2154215 ,  0.46670015,  0.2154215 ,  2.39231994, -3.2898631 ],\n",
       "       [-3.2898631 , -3.2898631 , -3.2898631 , -3.2898631 , 13.47116148]])"
      ]
     },
     "execution_count": 6,
     "metadata": {},
     "output_type": "execute_result"
    }
   ],
   "source": [
    "B_matrix_5.real"
   ]
  },
  {
   "cell_type": "code",
   "execution_count": 7,
   "id": "synthetic-piano",
   "metadata": {},
   "outputs": [
    {
     "data": {
      "text/plain": [
       "array([[3.64672501, 3.18115256, 3.12741169, 3.18115256],\n",
       "       [3.18115256, 3.64672501, 3.18115256, 3.12741169],\n",
       "       [3.12741169, 3.18115256, 3.64672501, 3.18115256],\n",
       "       [3.18115256, 3.12741169, 3.18115256, 3.64672501]])"
      ]
     },
     "execution_count": 7,
     "metadata": {},
     "output_type": "execute_result"
    }
   ],
   "source": [
    "cov_matrix_4 = np.linalg.inv(B_matrix_4)\n",
    "cov_matrix_4.real"
   ]
  },
  {
   "cell_type": "markdown",
   "id": "thrown-restriction",
   "metadata": {},
   "source": [
    "cov_matrix_5 = np.linalg.inv(B_matrix_5)\n",
    "cov_matrix_5.real"
   ]
  },
  {
   "cell_type": "code",
   "execution_count": 8,
   "id": "solved-clerk",
   "metadata": {},
   "outputs": [
    {
     "data": {
      "text/plain": [
       "array([[3.64672501, 3.18115256, 3.12741169, 3.18115256, 3.20811945],\n",
       "       [3.18115256, 3.64672501, 3.18115256, 3.12741169, 3.20811945],\n",
       "       [3.12741169, 3.18115256, 3.64672501, 3.18115256, 3.20811945],\n",
       "       [3.18115256, 3.12741169, 3.18115256, 3.64672501, 3.20811945],\n",
       "       [3.20811945, 3.20811945, 3.20811945, 3.20811945, 3.20811945]])"
      ]
     },
     "execution_count": 8,
     "metadata": {},
     "output_type": "execute_result"
    }
   ],
   "source": [
    "cov_matrix_5 = np.linalg.inv(B_matrix_5) \n",
    "cov_matrix_5.real"
   ]
  },
  {
   "cell_type": "markdown",
   "id": "conscious-breathing",
   "metadata": {},
   "source": [
    "verify positive-definiteness of covariance matrices\n"
   ]
  },
  {
   "cell_type": "code",
   "execution_count": 9,
   "id": "comparative-nature",
   "metadata": {},
   "outputs": [
    {
     "name": "stdout",
     "output_type": "stream",
     "text": [
      "cov-4 is positive definite: True\n",
      "cov-5 is positive definite: True\n"
     ]
    }
   ],
   "source": [
    "print(\"cov-4 is positive definite:\", np.all(np.linalg.eigvals(cov_matrix_4) > 0))\n",
    "print(\"cov-5 is positive definite:\", np.all(np.linalg.eigvals(cov_matrix_5) > 0))"
   ]
  },
  {
   "cell_type": "markdown",
   "id": "false-subject",
   "metadata": {},
   "source": [
    "The covariances matrices show the same covariances between \\mu_i no matter how manny additional \\mu_i are \\`measured\\'.  As expected the physics/statistics of the object is the same no matter what we \\`measure\\'.  \n",
    "\n",
    "The covariance matrix shows the total covariance, i.e. everything about how the field behaves at that point, whether the correlations are direct or mediated by (and correlated with) the field at other locations.\n",
    "\n",
    "On the other hand the precision matrix (inverse of covariance matrix) shows something related to partial covariances - only those covariances betwee two points not \\`explained by\\' other, indirect effects."
   ]
  },
  {
   "cell_type": "markdown",
   "id": "drawn-spread",
   "metadata": {},
   "source": [
    "### Correlation matrix, precision matrix; partial convariances, conditional covariances in detail\n",
    "- precision matrix  = inverse correlation matrix\n",
    "- For N-dimensional Gaussian distributions, partial covariances = conditional covariances\n"
   ]
  },
  {
   "cell_type": "markdown",
   "id": "invalid-reynolds",
   "metadata": {},
   "source": [
    "A partial covariance matrix between the first 4 boundary points extracted from the 5-element version"
   ]
  },
  {
   "cell_type": "code",
   "execution_count": 10,
   "id": "thick-carroll",
   "metadata": {},
   "outputs": [
    {
     "name": "stdout",
     "output_type": "stream",
     "text": [
      "C_(j|5) =  [[2.88272033 2.41714788 2.36340701 2.41714788]\n",
      " [2.41714788 2.88272033 2.41714788 2.36340701]\n",
      " [2.36340701 2.41714788 2.88272033 2.41714788]\n",
      " [2.41714788 2.36340701 2.41714788 2.88272033]]\n"
     ]
    }
   ],
   "source": [
    "cov_partial = np.zeros((4,4), dtype=complex)\n",
    "fifth_entry= [[B_matrix_5[-1,-1]]]\n",
    "#print(cov_matrix_5[-1:,:-1].real, np.linalg.inv(fifth_entry).real, cov_matrix_5[:-1,-1:].real)\n",
    "cov_partial = cov_matrix_5[:-1,:-1] - np.matmul( cov_matrix_5[:-1,-1:], np.matmul(\n",
    "                   np.linalg.inv(fifth_entry), cov_matrix_5[-1:,:-1] ))\n",
    "print(\"C_(j|5) = \",cov_partial.real)    "
   ]
  },
  {
   "cell_type": "markdown",
   "id": "basic-recall",
   "metadata": {},
   "source": [
    "this is not equal to C^4_j. "
   ]
  },
  {
   "cell_type": "code",
   "execution_count": 11,
   "id": "elect-standard",
   "metadata": {},
   "outputs": [
    {
     "name": "stdout",
     "output_type": "stream",
     "text": [
      "C^4=\n",
      " [[3.64672501 3.18115256 3.12741169 3.18115256]\n",
      " [3.18115256 3.64672501 3.18115256 3.12741169]\n",
      " [3.12741169 3.18115256 3.64672501 3.18115256]\n",
      " [3.18115256 3.12741169 3.18115256 3.64672501]]\n"
     ]
    }
   ],
   "source": [
    "print(\"C^4=\\n\" , cov_matrix_4.real)"
   ]
  },
  {
   "cell_type": "markdown",
   "id": "conservative-helena",
   "metadata": {},
   "source": [
    " C^4_j is the covariances between the 4 boundary points when everything is alloweed to flucutate. C_{j|5} is the covariances between the 4 boundary points when the mean (5th condition) is constrained to a constant."
   ]
  },
  {
   "cell_type": "code",
   "execution_count": 12,
   "id": "suburban-lecture",
   "metadata": {},
   "outputs": [
    {
     "name": "stdout",
     "output_type": "stream",
     "text": [
      "partial covariances extracted from 5 constrain covs\n",
      "[[ 1.59465471 -0.58224372 -0.33096507 -0.58224372]\n",
      " [-0.58224372  1.59465471 -0.58224372 -0.33096507]\n",
      " [-0.33096507 -0.58224372  1.59465471 -0.58224372]\n",
      " [-0.58224372 -0.33096507 -0.58224372  1.59465471]]\n",
      "B matrix measured from 4 points from the start\n",
      "[[ 1.58888519 -0.58801324 -0.33673459 -0.58801324]\n",
      " [-0.58801324  1.58888519 -0.58801324 -0.33673459]\n",
      " [-0.33673459 -0.58801324  1.58888519 -0.58801324]\n",
      " [-0.58801324 -0.33673459 -0.58801324  1.58888519]]\n"
     ]
    }
   ],
   "source": [
    "print(\"partial covariances extracted from 5 constrain covs\", np.linalg.inv(cov_partial).real, sep=\"\\n\")\n",
    "print(\"B matrix measured from 4 points from the start\", B_matrix_4.real, sep=\"\\n\")"
   ]
  },
  {
   "cell_type": "markdown",
   "id": "cleared-dance",
   "metadata": {},
   "source": [
    "Very similar for practical purposes.  \n",
    "Are the the same object except for numerical error?  No, 2 is inverse of correlation matrix C^4_j giving flucutations at boundaries while everything is allowed to vary, while 1 is inverse of partial correlation matrix C_{j|5}.  Although they look similar they are inverses of different matrices."
   ]
  },
  {
   "cell_type": "markdown",
   "id": "exceptional-regard",
   "metadata": {},
   "source": [
    "Describe physically slightly different situations.  I could choose to use either in my estimation of an effective potential "
   ]
  },
  {
   "cell_type": "markdown",
   "id": "upset-aquarium",
   "metadata": {},
   "source": [
    "But not just first 4x4 entries of 5x5 precision matrix "
   ]
  },
  {
   "cell_type": "code",
   "execution_count": 13,
   "id": "considerable-receipt",
   "metadata": {},
   "outputs": [
    {
     "name": "stdout",
     "output_type": "stream",
     "text": [
      "[[2.39231994 0.2154215  0.46670015 0.2154215 ]\n",
      " [0.2154215  2.39231994 0.2154215  0.46670015]\n",
      " [0.46670015 0.2154215  2.39231994 0.2154215 ]\n",
      " [0.2154215  0.46670015 0.2154215  2.39231994]]\n"
     ]
    }
   ],
   "source": [
    "print(B_matrix_5[:4,:4].real)"
   ]
  },
  {
   "cell_type": "markdown",
   "id": "complicated-export",
   "metadata": {},
   "source": [
    "this does not have the desired properties.  What does this represent?  What do the raw individual elements of a precision matrix mean?"
   ]
  },
  {
   "cell_type": "code",
   "execution_count": 14,
   "id": "employed-print",
   "metadata": {},
   "outputs": [
    {
     "name": "stdout",
     "output_type": "stream",
     "text": [
      "C_(55|j) =  [[0.07423265]]\n",
      "inverse  [[13.47116148]]\n"
     ]
    }
   ],
   "source": [
    "\n",
    "#print(cov_matrix_5[-1:,:-1].real, np.linalg.inv(fifth_entry).real, cov_matrix_5[:-1,-1:].real)\n",
    "cov_partial_55 = cov_matrix_5[-1:,-1:] - np.matmul( cov_matrix_5[-1:,:-1], np.matmul(\n",
    "                   np.linalg.inv(cov_matrix_5[:-1,:-1]), cov_matrix_5[:-1,-1:] ))\n",
    "print(\"C_(55|j) = \",cov_partial_55.real)  \n",
    "print(\"inverse \",np.linalg.inv(cov_partial_55).real)  "
   ]
  },
  {
   "cell_type": "markdown",
   "id": "disturbed-matrix",
   "metadata": {},
   "source": [
    "Matching exactly the element of precision matrix.  This leads me to believe that elements of precision matrix mean:  Partial (co-)variance of two or one variable, letting the other three or four be fixed."
   ]
  },
  {
   "cell_type": "markdown",
   "id": "figured-climb",
   "metadata": {},
   "source": [
    "Why is B_{13} = inv(C_{13|245}) not the element we want?  Because most correlation between 1 and 3 is mediated by what happens at 5.  The rest not \\`explained by\\' this is small, inconsequential, and has the wrong sign. "
   ]
  },
  {
   "cell_type": "markdown",
   "id": "lesbian-exhaust",
   "metadata": {},
   "source": [
    "# How to estimate effective potential from covariance matrix"
   ]
  },
  {
   "cell_type": "markdown",
   "id": "general-smell",
   "metadata": {},
   "source": [
    "The covariance matrix is the same no matter is it was derived for 4 or 5 boundary conditions.  The 5x5 covariance matrix contains the most complete and universal information, so we take this as our starting point."
   ]
  },
  {
   "cell_type": "markdown",
   "id": "fatty-rocket",
   "metadata": {},
   "source": [
    "B^5_{55} = 13.47 holds the information: the mean on the cell varies little, if all the other points are held at some constant value.  \n",
    "Is this what we want in alpha'?"
   ]
  },
  {
   "cell_type": "markdown",
   "id": "saved-tactics",
   "metadata": {},
   "source": [
    "C^5_{55} = 3.2 holds the information: when everything fluctuates, the value of the mean varies more and behaves much like the value at each of the five points."
   ]
  },
  {
   "cell_type": "markdown",
   "id": "finite-group",
   "metadata": {},
   "source": [
    "What is a corresponding precision?  Perhaps it is this value."
   ]
  },
  {
   "cell_type": "code",
   "execution_count": 15,
   "id": "serious-panel",
   "metadata": {},
   "outputs": [],
   "source": [
    "B_matrix_1 = rescale.get_VWmatrix(field='real', maxwavevector=Q, alpha=alpha, n=n, C=C, lx=lx, ly=ly, lambda_is=[4])[-1:, -1:]\n"
   ]
  },
  {
   "cell_type": "code",
   "execution_count": 16,
   "id": "going-reserve",
   "metadata": {},
   "outputs": [
    {
     "data": {
      "text/plain": [
       "array([[0.31170909+0.j]])"
      ]
     },
     "execution_count": 16,
     "metadata": {},
     "output_type": "execute_result"
    }
   ],
   "source": [
    "B_matrix_1"
   ]
  },
  {
   "cell_type": "code",
   "execution_count": 17,
   "id": "published-expression",
   "metadata": {},
   "outputs": [
    {
     "data": {
      "text/plain": [
       "array([[3.20811945+0.j]])"
      ]
     },
     "execution_count": 17,
     "metadata": {},
     "output_type": "execute_result"
    }
   ],
   "source": [
    "np.linalg.inv(B_matrix_1)"
   ]
  },
  {
   "cell_type": "markdown",
   "id": "tribal-steering",
   "metadata": {},
   "source": [
    "It is this value, or could hvae just 1/C_55"
   ]
  },
  {
   "cell_type": "markdown",
   "id": "central-nicaragua",
   "metadata": {},
   "source": [
    "Another thing: does F_0 \\sim ln sqrt 1/det(A) depend on how many boundary points are \\`measured\\'?"
   ]
  },
  {
   "cell_type": "markdown",
   "id": "compliant-envelope",
   "metadata": {},
   "source": [
    "The mean varies a lot (precision .33) when everything else is not held constant.  Is this the information we want in alpha' ?"
   ]
  },
  {
   "cell_type": "code",
   "execution_count": null,
   "id": "lesbian-masters",
   "metadata": {},
   "outputs": [],
   "source": [
    "Big difference here between precision matrix element."
   ]
  }
 ],
 "metadata": {
  "kernelspec": {
   "display_name": "Python 3",
   "language": "python",
   "name": "python3"
  },
  "language_info": {
   "codemirror_mode": {
    "name": "ipython",
    "version": 3
   },
   "file_extension": ".py",
   "mimetype": "text/x-python",
   "name": "python",
   "nbconvert_exporter": "python",
   "pygments_lexer": "ipython3",
   "version": "3.8.5"
  }
 },
 "nbformat": 4,
 "nbformat_minor": 5
}
