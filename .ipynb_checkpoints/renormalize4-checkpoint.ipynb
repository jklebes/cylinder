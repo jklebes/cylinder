{
 "cells": [
  {
   "cell_type": "markdown",
   "id": "promotional-league",
   "metadata": {},
   "source": [
    "Try some integrals over G_0(q,q) = (alpha+ c q^2)"
   ]
  },
  {
   "cell_type": "code",
   "execution_count": 24,
   "id": "veterinary-layer",
   "metadata": {},
   "outputs": [],
   "source": [
    "import math\n",
    "import matplotlib.pyplot as plt"
   ]
  },
  {
   "cell_type": "code",
   "execution_count": 4,
   "id": "fitting-capability",
   "metadata": {},
   "outputs": [],
   "source": [
    "cutoff_length=.1*2*math.pi/100"
   ]
  },
  {
   "cell_type": "code",
   "execution_count": 5,
   "id": "straight-burton",
   "metadata": {},
   "outputs": [],
   "source": [
    "l= 2*math.pi/100"
   ]
  },
  {
   "cell_type": "code",
   "execution_count": 32,
   "id": "breeding-incidence",
   "metadata": {},
   "outputs": [],
   "source": [
    "def int_G(cutoff_length, l, alpha=1, c=1):\n",
    "    sum_=0\n",
    "    maxq= l/cutoff_length\n",
    "    maxqsquared=maxq**2\n",
    "    #make sure to get a circle, not a square\n",
    "    for qx in range(-math.floor(maxq)+1,math.floor(maxq)):\n",
    "        for qy in range(-math.floor(maxq)+1,math.floor(maxq)):\n",
    "            qsquared=qx**2+qy**2\n",
    "            if qsquared<=maxqsquared:\n",
    "                sum_+=1/(alpha+c*qsquared)\n",
    "    return sum_\n",
    "                "
   ]
  },
  {
   "cell_type": "code",
   "execution_count": 33,
   "id": "intimate-payday",
   "metadata": {},
   "outputs": [
    {
     "name": "stdout",
     "output_type": "stream",
     "text": [
      "39.070750252104055\n"
     ]
    }
   ],
   "source": [
    "print(int_G(cutoff_length, l))"
   ]
  },
  {
   "cell_type": "code",
   "execution_count": null,
   "id": "respiratory-merchant",
   "metadata": {},
   "outputs": [
    {
     "name": "stdout",
     "output_type": "stream",
     "text": [
      "0.3141592653589793\n",
      "0.9424777960769378\n",
      "1.5707963267948966\n",
      "2.199114857512855\n",
      "2.827433388230814\n",
      "3.4557519189487724\n",
      "4.084070449666731\n",
      "4.71238898038469\n",
      "5.340707511102648\n",
      "5.969026041820607\n",
      "6.5973445725385655\n",
      "7.225663103256525\n",
      "7.853981633974482\n",
      "8.482300164692441\n",
      "9.1106186954104\n",
      "9.738937226128359\n",
      "10.367255756846316\n",
      "10.995574287564274\n",
      "11.623892818282235\n",
      "12.252211349000193\n",
      "12.880529879718152\n",
      "13.50884841043611\n",
      "14.137166941154069\n"
     ]
    }
   ],
   "source": [
    "ls=[x*2*math.pi/100 for x in range(5,300,10)]\n",
    "ints=[]\n",
    "\n",
    "for l in ls:\n",
    "    print(l)\n",
    "    ints.append(int_G(cutoff_length, l))\n",
    "\n",
    "plt.plot(ls, ints)"
   ]
  },
  {
   "cell_type": "code",
   "execution_count": null,
   "id": "ahead-crossing",
   "metadata": {},
   "outputs": [],
   "source": []
  }
 ],
 "metadata": {
  "kernelspec": {
   "display_name": "Python 3",
   "language": "python",
   "name": "python3"
  },
  "language_info": {
   "codemirror_mode": {
    "name": "ipython",
    "version": 3
   },
   "file_extension": ".py",
   "mimetype": "text/x-python",
   "name": "python",
   "nbconvert_exporter": "python",
   "pygments_lexer": "ipython3",
   "version": "3.8.5"
  }
 },
 "nbformat": 4,
 "nbformat_minor": 5
}
